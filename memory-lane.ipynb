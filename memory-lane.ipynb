{
 "cells": [
  {
   "cell_type": "code",
   "execution_count": null,
   "id": "b69b8236-186e-4973-a8d1-a045dcedc09c",
   "metadata": {
    "tags": []
   },
   "outputs": [],
   "source": [
    "import os\n",
    "import sqlite3 as sql\n",
    "from typedstream.stream import TypedStreamReader"
   ]
  },
  {
   "cell_type": "code",
   "execution_count": null,
   "id": "30f63cd3-ec9a-4440-abea-af70f79c0311",
   "metadata": {
    "tags": []
   },
   "outputs": [],
   "source": [
    "YOUR_NAME = 'YOUR_NAME'\n",
    "OTHER_NAME = 'OTHER_NAME'\n",
    "TARGET_PHONE_NUMBER = {'(111) 111-1111', '+1 (111) 111-1111', '+11111111111', '11111111111'}\n",
    "USERNAME = 'macos-username'\n",
    "databasePath = f'/Users/{USERNAME}/Library/Messages/chat.db'"
   ]
  },
  {
   "cell_type": "code",
   "execution_count": null,
   "id": "c6b1fe83-588c-4924-a4dc-f848c545ebf8",
   "metadata": {
    "tags": []
   },
   "outputs": [],
   "source": [
    "def decodeAttributedBody(data):\n",
    "    if not data:\n",
    "        return None\n",
    "    for event in TypedStreamReader.from_data(data):\n",
    "        # The first bytes object is the one we want\n",
    "        if type(event) is bytes:\n",
    "            return event.decode(\"utf-8\")"
   ]
  },
  {
   "cell_type": "code",
   "execution_count": null,
   "id": "012b5273-6141-47ba-a2a6-998ea23d68b9",
   "metadata": {
    "tags": []
   },
   "outputs": [],
   "source": [
    "# Connect to the iMessage database\n",
    "dbConnection = sql.connect(databasePath)\n",
    "cursor = dbConnection.cursor()\n",
    "\n",
    "# SQL Query to extract relevant message data\n",
    "query = \"\"\"\n",
    "SELECT\n",
    "    message.ROWID,\n",
    "    message.date,\n",
    "    message.text,\n",
    "    handle.id AS phoneNumber,\n",
    "    message.is_from_me,\n",
    "    message.attributedBody\n",
    "FROM\n",
    "    message\n",
    "LEFT JOIN\n",
    "    handle ON message.handle_id = handle.ROWID\n",
    "\n",
    "\"\"\""
   ]
  },
  {
   "cell_type": "code",
   "execution_count": null,
   "id": "ff62790c-a0a0-4a8f-8158-6743784a9b1d",
   "metadata": {
    "tags": []
   },
   "outputs": [],
   "source": [
    "# Fetch messages\n",
    "results = cursor.execute(query).fetchall()\n",
    "results.sort(key=lambda result: result[1]) # Sort by date (chronological order)"
   ]
  },
  {
   "cell_type": "code",
   "execution_count": null,
   "id": "39af5e89-788a-4abf-8a89-85dfd64ef171",
   "metadata": {
    "tags": []
   },
   "outputs": [],
   "source": [
    "# Parse and filter messages\n",
    "data = []\n",
    "\n",
    "for result in results:\n",
    "    rowid, date, text, phoneNumber, isFromMe, attributedBody = result\n",
    "\n",
    "    # Filter out irrelevant phone numbers or messages without a date\n",
    "    if phoneNumber not in TARGET_PHONE_NUMBER or not date:\n",
    "        continue\n",
    "\n",
    "    # Decode attributedBody if text is empty or if attributedBody is present\n",
    "    if attributedBody and not text:\n",
    "        text = decodeAttributedBody(attributedBody)\n",
    "\n",
    "    if not text:\n",
    "        continue  # Skip messages with no text or decoded attributedBody\n",
    "\n",
    "    # Determine sender name\n",
    "    senderName = YOUR_NAME if isFromMe else OTHER_NAME\n",
    "\n",
    "    # Append the message data\n",
    "    data.append({\"sender\": senderName, \"text\": text, \"timestamp\": date})\n",
    "\n",
    "print(f\"Processed {len(data)} messages from the database.\")"
   ]
  },
  {
   "cell_type": "code",
   "execution_count": null,
   "id": "37aeb75f-81cc-4bd2-9666-6a2cb55724e2",
   "metadata": {
    "tags": []
   },
   "outputs": [],
   "source": [
    "# Only use last 100,000 messages from data\n",
    "reducedData = data[-100_000:]"
   ]
  },
  {
   "cell_type": "code",
   "execution_count": null,
   "id": "35a51f4c-b37e-4e1c-8de1-248ee2991aba",
   "metadata": {
    "tags": []
   },
   "outputs": [],
   "source": [
    "from langchain.embeddings import OpenAIEmbeddings\n",
    "from langchain.chains.question_answering import load_qa_chain\n",
    "from langchain.schema import Document\n",
    "from langchain.text_splitter import RecursiveCharacterTextSplitter\n",
    "from langchain.vectorstores import FAISS\n",
    "from langchain.chat_models import ChatOpenAI\n",
    "from config import API_KEY  # Replace with your OpenAI API Key configuration"
   ]
  },
  {
   "cell_type": "code",
   "execution_count": null,
   "id": "d720e1cd-993b-402a-b735-9b9abbb24402",
   "metadata": {
    "tags": []
   },
   "outputs": [],
   "source": [
    "# Combine messages into a single dataset\n",
    "data_text = \"\\n\".join([f\"{msg['sender']}: {msg['text']}\" for msg in reducedData])\n",
    "\n",
    "# # Text splitting with overlap for embedding\n",
    "BORDER_TEXT = '=============================='\n",
    "textSplitter = RecursiveCharacterTextSplitter(separators=[f\"\\n{BORDER_TEXT}\\n\", \"\\n\"], chunk_size=3000, chunk_overlap=250)\n",
    "documents = textSplitter.create_documents([data_text])"
   ]
  },
  {
   "cell_type": "code",
   "execution_count": null,
   "id": "434b43c4-92cf-4c3c-a00b-3e581cb3c555",
   "metadata": {
    "tags": []
   },
   "outputs": [],
   "source": [
    "# Initialize OpenAI embeddings\n",
    "embeddings = OpenAIEmbeddings(openai_api_key=API_KEY)\n",
    "vectors = FAISS.from_documents(documents, embeddings)\n",
    "\n",
    "# Save FAISS index\n",
    "vectors.save_local(\"faiss_index\")\n",
    "print(\"FAISS vector store saved locally.\")"
   ]
  },
  {
   "cell_type": "code",
   "execution_count": null,
   "id": "5b148f2b-5eea-40e7-b74a-458ad90458f1",
   "metadata": {
    "tags": []
   },
   "outputs": [],
   "source": [
    "# Load FAISS index\n",
    "vector_store = FAISS.load_local(\"faiss_index\", embeddings)\n",
    "\n",
    "# Initialize the LLM for querying and summarization\n",
    "llm = ChatOpenAI(temperature=0, openai_api_key=API_KEY, model=\"gpt-4\")\n",
    "qa_chain = load_qa_chain(llm, chain_type=\"stuff\")"
   ]
  },
  {
   "cell_type": "code",
   "execution_count": null,
   "id": "03a0aad3-6e4a-4543-92fe-2f7f18c2aecd",
   "metadata": {
    "tags": []
   },
   "outputs": [],
   "source": [
    "# Querying function\n",
    "def query_conversations(query):\n",
    "    print(f\"Query: {query}\")\n",
    "    docs = vector_store.similarity_search(query, k=5)\n",
    "    response = qa_chain.run({\"input_documents\": docs, \"question\": query})\n",
    "    return response"
   ]
  },
  {
   "cell_type": "code",
   "execution_count": null,
   "id": "c484d975-b96e-48d5-a651-ea4c67c01d0e",
   "metadata": {
    "tags": []
   },
   "outputs": [],
   "source": [
    "# Example usage\n",
    "query = \"Summarize the most common topics\"\n",
    "\n",
    "response = query_conversations(query)\n",
    "print(\"\\nQuery Response:\\n\", response)\n",
    "\n",
    "# Save summarized responses for record-keeping\n",
    "with open(\"query_results.txt\", \"a\") as f:\n",
    "    f.write(f\"Query: {query}\\nResponse: {response}\\n\\n\")"
   ]
  }
 ],
 "metadata": {
  "kernelspec": {
   "display_name": "Python 3 (ipykernel)",
   "language": "python",
   "name": "python3"
  },
  "language_info": {
   "codemirror_mode": {
    "name": "ipython",
    "version": 3
   },
   "file_extension": ".py",
   "mimetype": "text/x-python",
   "name": "python",
   "nbconvert_exporter": "python",
   "pygments_lexer": "ipython3",
   "version": "3.10.9"
  }
 },
 "nbformat": 4,
 "nbformat_minor": 5
}
